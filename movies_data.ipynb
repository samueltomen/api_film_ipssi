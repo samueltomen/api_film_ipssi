{
 "cells": [
  {
   "metadata": {
    "ExecuteTime": {
     "end_time": "2024-10-17T13:43:33.863139Z",
     "start_time": "2024-10-17T13:43:33.858421Z"
    }
   },
   "cell_type": "code",
   "source": [
    "import pandas as pd\n",
    "\n",
    "from database_connect import connect_db"
   ],
   "id": "cd662149fae577c5",
   "outputs": [],
   "execution_count": 4
  },
  {
   "metadata": {},
   "cell_type": "markdown",
   "source": "### Afficher le contenu du fichier movies",
   "id": "f8ed911acaefcabc"
  },
  {
   "metadata": {
    "ExecuteTime": {
     "end_time": "2024-10-17T13:43:35.746773Z",
     "start_time": "2024-10-17T13:43:33.864135Z"
    }
   },
   "cell_type": "code",
   "source": [
    "data_movie = pd.read_json('movie_ids_10_16_2024.json', lines=True)\n",
    "data_movie"
   ],
   "id": "initial_id",
   "outputs": [
    {
     "data": {
      "text/plain": [
       "        adult       id                      original_title  popularity  video\n",
       "0       False     3924                             Blondie       2.898  False\n",
       "1       False     6124                 Der Mann ohne Namen       3.167  False\n",
       "2       False     8773                 L'Amour à vingt ans      16.787  False\n",
       "3       False    25449  New World Disorder 9: Never Enough       5.274  False\n",
       "4       False    31975      Sesame Street: Elmo Loves You!       0.004   True\n",
       "...       ...      ...                                 ...         ...    ...\n",
       "980183  False  1371993                             오늘부터 1일       0.000  False\n",
       "980184  False  1371994                           Isolation       0.000  False\n",
       "980185  False  1371995                The American Miracle       0.000  False\n",
       "980186  False  1371996       Josh Barnett's Bloodsport XII       0.000  False\n",
       "980187  False  1371997   Marvel Super Heroes 4D Experience       0.000  False\n",
       "\n",
       "[980188 rows x 5 columns]"
      ],
      "text/html": [
       "<div>\n",
       "<style scoped>\n",
       "    .dataframe tbody tr th:only-of-type {\n",
       "        vertical-align: middle;\n",
       "    }\n",
       "\n",
       "    .dataframe tbody tr th {\n",
       "        vertical-align: top;\n",
       "    }\n",
       "\n",
       "    .dataframe thead th {\n",
       "        text-align: right;\n",
       "    }\n",
       "</style>\n",
       "<table border=\"1\" class=\"dataframe\">\n",
       "  <thead>\n",
       "    <tr style=\"text-align: right;\">\n",
       "      <th></th>\n",
       "      <th>adult</th>\n",
       "      <th>id</th>\n",
       "      <th>original_title</th>\n",
       "      <th>popularity</th>\n",
       "      <th>video</th>\n",
       "    </tr>\n",
       "  </thead>\n",
       "  <tbody>\n",
       "    <tr>\n",
       "      <th>0</th>\n",
       "      <td>False</td>\n",
       "      <td>3924</td>\n",
       "      <td>Blondie</td>\n",
       "      <td>2.898</td>\n",
       "      <td>False</td>\n",
       "    </tr>\n",
       "    <tr>\n",
       "      <th>1</th>\n",
       "      <td>False</td>\n",
       "      <td>6124</td>\n",
       "      <td>Der Mann ohne Namen</td>\n",
       "      <td>3.167</td>\n",
       "      <td>False</td>\n",
       "    </tr>\n",
       "    <tr>\n",
       "      <th>2</th>\n",
       "      <td>False</td>\n",
       "      <td>8773</td>\n",
       "      <td>L'Amour à vingt ans</td>\n",
       "      <td>16.787</td>\n",
       "      <td>False</td>\n",
       "    </tr>\n",
       "    <tr>\n",
       "      <th>3</th>\n",
       "      <td>False</td>\n",
       "      <td>25449</td>\n",
       "      <td>New World Disorder 9: Never Enough</td>\n",
       "      <td>5.274</td>\n",
       "      <td>False</td>\n",
       "    </tr>\n",
       "    <tr>\n",
       "      <th>4</th>\n",
       "      <td>False</td>\n",
       "      <td>31975</td>\n",
       "      <td>Sesame Street: Elmo Loves You!</td>\n",
       "      <td>0.004</td>\n",
       "      <td>True</td>\n",
       "    </tr>\n",
       "    <tr>\n",
       "      <th>...</th>\n",
       "      <td>...</td>\n",
       "      <td>...</td>\n",
       "      <td>...</td>\n",
       "      <td>...</td>\n",
       "      <td>...</td>\n",
       "    </tr>\n",
       "    <tr>\n",
       "      <th>980183</th>\n",
       "      <td>False</td>\n",
       "      <td>1371993</td>\n",
       "      <td>오늘부터 1일</td>\n",
       "      <td>0.000</td>\n",
       "      <td>False</td>\n",
       "    </tr>\n",
       "    <tr>\n",
       "      <th>980184</th>\n",
       "      <td>False</td>\n",
       "      <td>1371994</td>\n",
       "      <td>Isolation</td>\n",
       "      <td>0.000</td>\n",
       "      <td>False</td>\n",
       "    </tr>\n",
       "    <tr>\n",
       "      <th>980185</th>\n",
       "      <td>False</td>\n",
       "      <td>1371995</td>\n",
       "      <td>The American Miracle</td>\n",
       "      <td>0.000</td>\n",
       "      <td>False</td>\n",
       "    </tr>\n",
       "    <tr>\n",
       "      <th>980186</th>\n",
       "      <td>False</td>\n",
       "      <td>1371996</td>\n",
       "      <td>Josh Barnett's Bloodsport XII</td>\n",
       "      <td>0.000</td>\n",
       "      <td>False</td>\n",
       "    </tr>\n",
       "    <tr>\n",
       "      <th>980187</th>\n",
       "      <td>False</td>\n",
       "      <td>1371997</td>\n",
       "      <td>Marvel Super Heroes 4D Experience</td>\n",
       "      <td>0.000</td>\n",
       "      <td>False</td>\n",
       "    </tr>\n",
       "  </tbody>\n",
       "</table>\n",
       "<p>980188 rows × 5 columns</p>\n",
       "</div>"
      ]
     },
     "execution_count": 5,
     "metadata": {},
     "output_type": "execute_result"
    }
   ],
   "execution_count": 5
  },
  {
   "metadata": {},
   "cell_type": "markdown",
   "source": "### Injection des données dans la base de données",
   "id": "98f22a7ccaaa2ae0"
  },
  {
   "metadata": {
    "ExecuteTime": {
     "end_time": "2024-10-17T13:44:14.365479Z",
     "start_time": "2024-10-17T13:43:35.747780Z"
    }
   },
   "cell_type": "code",
   "source": [
    "connection = connect_db()\n",
    "\n",
    "if connection:\n",
    "    cursor = connection.cursor()\n",
    "\n",
    "    # Insert data into the database\n",
    "    try:\n",
    "        # Begin a transaction\n",
    "        cursor.fast_executemany = True\n",
    "        insert_query = \"INSERT INTO movies (id, adult, original_title, popularity, video) VALUES (?, ?, ?, ?, ?)\"\n",
    "        data_to_insert = [(row['id'], row['adult'], row['original_title'], row['popularity'], row['video']) for\n",
    "                          index, row in data_movie.iterrows()]\n",
    "\n",
    "        cursor.executemany(insert_query, data_to_insert)\n",
    "        connection.commit()\n",
    "        print(\"Données insérées avec succès dans la base de données.\")\n",
    "    except Exception as e:\n",
    "        print(f\"Erreur lors de l'insertion des données : {e}\")\n",
    "    finally:\n",
    "        connection.close()\n",
    "else:\n",
    "    print(\"Connexion à la base de données échouée.\")"
   ],
   "id": "47f408525f68fe8c",
   "outputs": [
    {
     "name": "stdout",
     "output_type": "stream",
     "text": [
      "Connexion réussie à la base de données SQL Server.\n",
      "Données insérées avec succès dans la base de données.\n"
     ]
    }
   ],
   "execution_count": 6
  },
  {
   "metadata": {},
   "cell_type": "markdown",
   "source": "# MISE A JOUR DE LA BASE DE DONNEES SCRIPT",
   "id": "514fd018bbce26f1"
  },
  {
   "metadata": {},
   "cell_type": "markdown",
   "source": "### Telechargement du fichier",
   "id": "afa2a4690bc02c99"
  },
  {
   "metadata": {
    "ExecuteTime": {
     "end_time": "2024-10-17T14:23:04.139691Z",
     "start_time": "2024-10-17T14:22:57.206561Z"
    }
   },
   "cell_type": "code",
   "source": [
    "import shutil\n",
    "import gzip\n",
    "import requests\n",
    "from datetime import datetime\n",
    "\n",
    "current_date = datetime.now()\n",
    "formatted_date = current_date.strftime(\"%d_%m_%Y\")\n",
    "\n",
    "# Variables\n",
    "# url = f\"http://files.tmdb.org/p/exports/movie_ids_{formatted_date}.json.gz\"\n",
    "url = \"http://files.tmdb.org/p/exports/movie_ids_10_16_2024.json.gz\"\n",
    "# gz_file = f\"movie_ids_{formatted_date}.json.gz\"\n",
    "gz_file = \"movie_ids_10_16_2024.json.gz\"\n",
    "# json_file = f\"movie_ids_{formatted_date}.json\"\n",
    "json_file = \"movie_ids_10_16_2024.json\"\n",
    "\n",
    "# Télécharger le fichier\n",
    "response = requests.get(url, stream=True)\n",
    "with open(gz_file, \"wb\") as f:\n",
    "    f.write(response.content)\n",
    "\n",
    "# Extraire le fichier gz\n",
    "with gzip.open(gz_file, \"rb\") as f_in:\n",
    "    with open(json_file, \"wb\") as f_out:\n",
    "        shutil.copyfileobj(f_in, f_out)"
   ],
   "id": "3f327ad5fc67d823",
   "outputs": [],
   "execution_count": 12
  },
  {
   "metadata": {},
   "cell_type": "markdown",
   "source": "### Dataframe and update",
   "id": "b93e12527038cbd8"
  },
  {
   "metadata": {},
   "cell_type": "markdown",
   "source": "",
   "id": "526db58499060b4d"
  },
  {
   "metadata": {
    "ExecuteTime": {
     "end_time": "2024-10-17T14:25:54.546599Z",
     "start_time": "2024-10-17T14:25:54.530048Z"
    }
   },
   "cell_type": "code",
   "source": [
    "from update_script import update_movies_table\n",
    "\n",
    "data_movie_update = pd.read_json(json_file, lines=True)\n",
    "update_movies_table(data_movie_update)\n",
    "data_movie_update"
   ],
   "id": "3d6cca5ada5094a6",
   "outputs": [
    {
     "ename": "TypeError",
     "evalue": "update_movies_table() missing 1 required positional argument: 'data_movie'",
     "output_type": "error",
     "traceback": [
      "\u001B[1;31m---------------------------------------------------------------------------\u001B[0m",
      "\u001B[1;31mTypeError\u001B[0m                                 Traceback (most recent call last)",
      "Cell \u001B[1;32mIn[20], line 1\u001B[0m\n\u001B[1;32m----> 1\u001B[0m \u001B[38;5;28;01mfrom\u001B[39;00m \u001B[38;5;21;01mupdate_script\u001B[39;00m \u001B[38;5;28;01mimport\u001B[39;00m update_movies_table\n\u001B[0;32m      2\u001B[0m data_movie_update \u001B[38;5;241m=\u001B[39m pd\u001B[38;5;241m.\u001B[39mread_json(json_file, lines\u001B[38;5;241m=\u001B[39m\u001B[38;5;28;01mTrue\u001B[39;00m)\n\u001B[0;32m      3\u001B[0m update_movies_table(data_movie_update)\n",
      "File \u001B[1;32mD:\\Github\\api_film_ipssi\\update_script.py:39\u001B[0m\n\u001B[0;32m     34\u001B[0m         \u001B[38;5;28mprint\u001B[39m(\u001B[38;5;124m\"\u001B[39m\u001B[38;5;124mConnexion à la base de données échouée.\u001B[39m\u001B[38;5;124m\"\u001B[39m)\n\u001B[0;32m     36\u001B[0m     schedule\u001B[38;5;241m.\u001B[39mevery(\u001B[38;5;241m30\u001B[39m)\u001B[38;5;241m.\u001B[39mdays\u001B[38;5;241m.\u001B[39mdo(update_movies_table)\n\u001B[1;32m---> 39\u001B[0m update_movies_table()\n",
      "\u001B[1;31mTypeError\u001B[0m: update_movies_table() missing 1 required positional argument: 'data_movie'"
     ]
    }
   ],
   "execution_count": 20
  },
  {
   "metadata": {},
   "cell_type": "markdown",
   "source": "### Insertion en base de données + MAJ ( tous les 3 mois )",
   "id": "21138765ddf0100"
  },
  {
   "metadata": {
    "ExecuteTime": {
     "end_time": "2024-10-17T14:25:14.532990Z",
     "start_time": "2024-10-17T14:25:14.516985Z"
    }
   },
   "cell_type": "code",
   "source": "\n",
   "id": "bbf62932ebe34ca9",
   "outputs": [
    {
     "ename": "TypeError",
     "evalue": "update_movies_table() missing 1 required positional argument: 'data_movie'",
     "output_type": "error",
     "traceback": [
      "\u001B[1;31m---------------------------------------------------------------------------\u001B[0m",
      "\u001B[1;31mTypeError\u001B[0m                                 Traceback (most recent call last)",
      "Cell \u001B[1;32mIn[19], line 1\u001B[0m\n\u001B[1;32m----> 1\u001B[0m \u001B[38;5;28;01mfrom\u001B[39;00m \u001B[38;5;21;01mupdate_script\u001B[39;00m \u001B[38;5;28;01mimport\u001B[39;00m update_movies_table\n\u001B[0;32m      3\u001B[0m data_movie \u001B[38;5;241m=\u001B[39m data_movie_update\n\u001B[0;32m      4\u001B[0m update_movies_table(data_movie)\n",
      "File \u001B[1;32mD:\\Github\\api_film_ipssi\\update_script.py:39\u001B[0m\n\u001B[0;32m     34\u001B[0m         \u001B[38;5;28mprint\u001B[39m(\u001B[38;5;124m\"\u001B[39m\u001B[38;5;124mConnexion à la base de données échouée.\u001B[39m\u001B[38;5;124m\"\u001B[39m)\n\u001B[0;32m     36\u001B[0m     schedule\u001B[38;5;241m.\u001B[39mevery(\u001B[38;5;241m30\u001B[39m)\u001B[38;5;241m.\u001B[39mdays\u001B[38;5;241m.\u001B[39mdo(update_movies_table)\n\u001B[1;32m---> 39\u001B[0m update_movies_table()\n",
      "\u001B[1;31mTypeError\u001B[0m: update_movies_table() missing 1 required positional argument: 'data_movie'"
     ]
    }
   ],
   "execution_count": 19
  },
  {
   "metadata": {},
   "cell_type": "code",
   "outputs": [],
   "execution_count": null,
   "source": "",
   "id": "1acc8697f258afb8"
  }
 ],
 "metadata": {
  "kernelspec": {
   "display_name": "Python 3",
   "language": "python",
   "name": "python3"
  },
  "language_info": {
   "codemirror_mode": {
    "name": "ipython",
    "version": 2
   },
   "file_extension": ".py",
   "mimetype": "text/x-python",
   "name": "python",
   "nbconvert_exporter": "python",
   "pygments_lexer": "ipython2",
   "version": "2.7.6"
  }
 },
 "nbformat": 4,
 "nbformat_minor": 5
}
